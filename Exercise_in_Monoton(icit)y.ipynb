{
  "cells": [
    {
      "cell_type": "markdown",
      "metadata": {
        "id": "x3ZAAafIbWW5"
      },
      "source": [
        "# Imports and Downloads"
      ]
    },
    {
      "cell_type": "markdown",
      "source": [
        "In the following few cells we download all needed files and import all libraries used throughout the notebook"
      ],
      "metadata": {
        "id": "c3H1gpq656Ot"
      }
    },
    {
      "cell_type": "code",
      "execution_count": 1,
      "metadata": {
        "id": "85KC2qYetP57"
      },
      "outputs": [],
      "source": [
        "\"\"\"Imports and downloads\"\"\"\n",
        "!wget https://nlp.stanford.edu/projects/snli/snli_1.0.zip\n",
        "!unzip snli_1.0.zip\n",
        "\n",
        "!python -m spacy download en_core_web_lg\n",
        "\n",
        "!rm -fr assigntools # helps to rerun this cell witthout errors, if recloning needed \n",
        "! git clone https://github.com/kovvalsky/assigntools.git\n",
        "\n",
        "import spacy\n",
        "import pickle\n",
        "import json\n",
        "import importlib\n",
        "import assigntools.LoLa.deep_nli\n",
        "import assigntools.LoLa.read_nli\n",
        "import assigntools.LoLa.sen_analysis\n",
        "import nltk\n",
        "from nltk.corpus import wordnet as wn\n",
        "importlib.reload(assigntools.LoLa.deep_nli)\n",
        "importlib.reload(assigntools.LoLa.read_nli)\n",
        "importlib.reload(assigntools.LoLa.sen_analysis)\n",
        "from assigntools.LoLa.deep_nli import predict_nli, batch_predict_nli, load_tok_model\n",
        "from assigntools.LoLa.read_nli import snli_jsonl2dict, sen2anno_from_nli_problems\n",
        "from assigntools.LoLa.sen_analysis import spacy_process_sen2tok, display_doc_dep\n",
        "from IPython.display import clear_output\n",
        "import collections\n",
        "import csv\n",
        "import pandas as pd\n",
        "import numpy as np\n",
        "import matplotlib.pyplot as plt\n",
        "import sklearn.metrics as metrics\n",
        "from sklearn import svm, datasets\n",
        "from sklearn.metrics import accuracy_score, precision_recall_fscore_support\n",
        "from sklearn.model_selection import train_test_split\n",
        "from sklearn.metrics import ConfusionMatrixDisplay\n",
        "import seaborn as sns\n",
        "nltk.download('wordnet')\n",
        "nltk.download('omw-1.4')\n",
        "import networkx as nx\n",
        "from pathlib import Path\n",
        "import logging\n",
        "from spacy.symbols import VERB, punct, DET, prep, pobj, ADV, AUX, NOUN, acl, nsubj, dobj\n",
        "logging.basicConfig()\n",
        "logging.getLogger().setLevel(logging.WARNING)\n",
        "\n",
        "clear_output()"
      ]
    },
    {
      "cell_type": "markdown",
      "metadata": {
        "id": "5yWFxJA3bVKo"
      },
      "source": [
        "# Preparing the data"
      ]
    },
    {
      "cell_type": "code",
      "execution_count": 2,
      "metadata": {
        "id": "vh9s8IPGua6K"
      },
      "outputs": [],
      "source": [
        "\"\"\"Preparing data\"\"\"\n",
        "\n",
        "# SNLI is dict {part: {problem_id: problem_info}}\n",
        "# S2A is dict {sentence: sentence annotation dict}\n",
        "SNLI, S2A = snli_jsonl2dict('snli_1.0')\n",
        "NLP = spacy.load(\"en_core_web_lg\")\n",
        "\n",
        "SNLI['sub_train'] = { pid: SNLI['train'][pid] for pid in sorted(SNLI['train'])[:10000]}\n",
        "subtrain_dev_test_S2A = sen2anno_from_nli_problems({**SNLI['sub_train'], **SNLI['dev'], **SNLI['test']}, S2A)\n",
        "sen2Doc = spacy_process_sen2tok(NLP, { sen: anno['tok'] for sen, anno in subtrain_dev_test_S2A.items()})\n",
        "clear_output()"
      ]
    },
    {
      "cell_type": "markdown",
      "metadata": {
        "id": "seqJ3fJnbqNr"
      },
      "source": [
        "# Baseline"
      ]
    },
    {
      "cell_type": "markdown",
      "source": [
        "In this section we have all the function used for the baseline system"
      ],
      "metadata": {
        "id": "lnlYfPn17MaO"
      }
    },
    {
      "cell_type": "code",
      "execution_count": 57,
      "metadata": {
        "id": "jey3j_fqElpy"
      },
      "outputs": [],
      "source": [
        "def get_roots_tags(premise, hypothesis):\n",
        "  \"\"\"\n",
        "  Given two sentences return the roots of each together with the tag of each root in the format\n",
        "  The format of the return sentence is a tuple of  \n",
        "    - sentence one root token, \n",
        "    - sentence one root tag,\n",
        "    - sentence two root token,\n",
        "    - sentence two root tag\n",
        "  \"\"\"\n",
        "  roots =  [(tokenP, tokenP.tag_, tokenH, tokenH.tag_) for tokenP in sen2Doc[premise] for tokenH in sen2Doc[hypothesis] \\\n",
        "                      if tokenP.dep_ == \"ROOT\" and tokenH.dep_ == \"ROOT\" ]\n",
        "  return roots[0]"
      ]
    },
    {
      "cell_type": "code",
      "execution_count": 58,
      "metadata": {
        "id": "z4q-lC09K6qm"
      },
      "outputs": [],
      "source": [
        "# Thos are the three different sets of tags a root can take on based on previous analyses\n",
        "# they are separated into three groups - verb tags, subject tags and other tags\n",
        "verb_set = {'VBG', 'VBZ', 'VBP', 'VBN', 'VBD', 'VB'}\n",
        "sub_set = {'NN', 'NNS', 'NNP'}\n",
        "other_set = {'JJ', 'UH', 'MD', 'IN', 'RB', 'RP'}"
      ]
    },
    {
      "cell_type": "code",
      "execution_count": 59,
      "metadata": {
        "id": "OPAXyCPxFZQR"
      },
      "outputs": [],
      "source": [
        "def same_tag_set(tagP, tagH):\n",
        "  \"\"\"\n",
        "  Given two tags return a boolean if they are in the same tag set\n",
        "  \"\"\"\n",
        "  for s in [verb_set, sub_set, other_set] :\n",
        "    if tagP in s and tagH in s:\n",
        "      return True\n",
        "  return False"
      ]
    },
    {
      "cell_type": "code",
      "execution_count": 60,
      "metadata": {
        "id": "_x62MtruG3BO"
      },
      "outputs": [],
      "source": [
        "def get_subj_children(sub_set, token):\n",
        "  \"\"\"\n",
        "  Given a spacy token this function returns a list of the kids of that token that have a tag from the subject set\n",
        "  \"\"\"\n",
        "  sub = [kid for kid in token.children if kid.tag_ in sub_set]\n",
        "  return sub"
      ]
    },
    {
      "cell_type": "code",
      "execution_count": 61,
      "metadata": {
        "id": "GMACRRigTRqJ"
      },
      "outputs": [],
      "source": [
        "def toCompare(token1, token2):\n",
        "    \"\"\"\n",
        "    Given two Spacy tokens return the determined label\n",
        "    \"\"\"\n",
        "    switch_functions = [True, True, True, True]\n",
        "    pos = token1.pos_\n",
        "    token1 = token1.lemma_\n",
        "    token2 = token2.lemma_\n",
        "\n",
        "    if token1 == token2:\n",
        "      return 'entailment'\n",
        "\n",
        "    if switch_functions[0] == True:\n",
        "      if antonym(token1, token2, pos):\n",
        "        return  'contradiction'\n",
        "\n",
        "    if switch_functions[1] == True:\n",
        "      if synonym(token1, token2, pos):\n",
        "          return  'entailment'\n",
        "    \n",
        "    if switch_functions[2] == True:\n",
        "      hyponyms = hyponym_hypernym(token1, token2, pos)\n",
        "      if hyponyms:\n",
        "        return 'entailment'\n",
        "      else:\n",
        "        return 'neutral'\n",
        "\n",
        "    if switch_functions[3] == True:\n",
        "      if co_hyponyms_base(token1, token2, pos):\n",
        "        return 'contradiction'\n",
        "\n",
        "    return 'neutral'"
      ]
    },
    {
      "cell_type": "code",
      "execution_count": 62,
      "metadata": {
        "id": "k7KQcjdCam3E"
      },
      "outputs": [],
      "source": [
        "def findTokens(premise, hypothesis):\n",
        "    \"\"\"\n",
        "    Given two sentences create word pairs to be compared \n",
        "    Where the first generated pair is the root pair and all subsequent are \n",
        "    children of the root pairs\n",
        "    \"\"\"\n",
        "    rootPToken, tagP, rootHToken, tagH = get_roots_tags(premise, hypothesis)\n",
        "    tokens_toCompare = [] # list keeping the roots or the main subjects from both sentences to be compared and their children\n",
        "\n",
        "    if not same_tag_set(tagP, tagH):\n",
        "      # If the roots of the premise and hypothesis don't have the same tag \n",
        "      if tagP in verb_set and tagH in sub_set:\n",
        "        # If the premise has a verb root and the hypothesis a subject root\n",
        "        # we find the premise subject (connected to the verb) and use that instead of the verb \n",
        "        subjectsHToken = rootHToken\n",
        "        subjectsPToken = get_subj_children(sub_set, rootPToken)\n",
        "        if len(subjectsPToken) != 0 :\n",
        "          tokens_toCompare = [(subjectsPToken[0], subjectsHToken)]\n",
        "      elif tagH in verb_set and tagP in sub_set:\n",
        "        subjectsPToken = rootPToken\n",
        "        subjectsHToken = get_subj_children(sub_set, rootHToken)\n",
        "        if len(subjectsHToken) != 0:\n",
        "          tokens_toCompare = [(subjectsPToken, subjectsHToken[0])]\n",
        "    else:\n",
        "      tokens_toCompare = [[rootPToken, rootHToken]]\n",
        "\n",
        "    childrenP = []\n",
        "    childrenH = []\n",
        "    for kid in rootPToken.children:\n",
        "      childrenP.append(kid)\n",
        "    for kid in rootHToken.children:\n",
        "      childrenH.append(kid)\n",
        "    for i in childrenP:\n",
        "      for j in childrenH:\n",
        "        if i.tag_ == j.tag_ and i.pos_ != 'PUNCT':\n",
        "          tokens_toCompare.append([i, j])\n",
        "\n",
        "    # If premise is longer than hypothesis\n",
        "    if len(premise.split()) > 1.15*len(hypothesis.split()):\n",
        "      grandkidsP = []\n",
        "      for kidP in childrenP:\n",
        "        for grandkidP in kidP.children:\n",
        "          grandkidsP.append(grandkidP)\n",
        "\n",
        "      for grandkidP in grandkidsP:\n",
        "        for childH in childrenH:\n",
        "          if grandkidP.tag_ == childH.tag_ and grandkidP.tag_!='PUNCT' and [grandkidP, childH] not in tokens_toCompare:\n",
        "            tokens_toCompare.append([grandkidP, childH])\n",
        "    \n",
        "    \n",
        "    # If premise is shorter than hypothesis\n",
        "    if 1.15*len(premise.split()) < len(hypothesis.split()):  \n",
        "      grandkidsH = []\n",
        "      for kidH in childrenH:\n",
        "        for grandkidH in kidH.children:\n",
        "          grandkidsH.append(grandkidH) \n",
        "\n",
        "      # Compare children premmise to grandchildren hypothesis\n",
        "      for grandkidH in grandkidsH:\n",
        "        for childP in childrenP:\n",
        "          if childP.tag_ == grandkidH.tag_ and childP.tag_!='PUNCT' and [childP, grandkidH] not in tokens_toCompare:\n",
        "            tokens_toCompare.append([childP, grandkidH])\n",
        "  \n",
        "    return tokens_toCompare"
      ]
    },
    {
      "cell_type": "code",
      "execution_count": 63,
      "metadata": {
        "id": "amAceDzhUUBx"
      },
      "outputs": [],
      "source": [
        "def classify_problem(premise, hypothesis): \n",
        "  \"\"\"\n",
        "  Function that classifies problem pairs from a dataset of the format SNLI\n",
        "  Returns a list of labels \n",
        "  - \n",
        "  \"\"\"\n",
        "  comparison = findTokens(premise, hypothesis)\n",
        "  labels_temp = []\n",
        "  for i in range(len(comparison)):\n",
        "      labels_temp.append(toCompare(comparison[i][0], comparison[i][1]))\n",
        "  if len(labels_temp) >= 1:\n",
        "    if labels_temp[0] == 'contradiction' or 'contradiction' in labels_temp:\n",
        "      return 'contradiction'\n",
        "    if labels_temp[0] == \"entailment\": # because if the previous takes away all the contradictions\n",
        "      return 'entailment'\n",
        "    if labels_temp[0] == \"neutral\"  and len(labels_temp) > 1:\n",
        "      return collections.Counter(labels_temp[1:]).most_common()[0][0]\n",
        "  \n",
        "  return 'neutral'"
      ]
    },
    {
      "cell_type": "markdown",
      "metadata": {
        "id": "MmQnNFjZbhZD"
      },
      "source": [
        "# Trees"
      ]
    },
    {
      "cell_type": "markdown",
      "source": [
        "The code in this section contains functions used in creating the Referent Trees and a few examples"
      ],
      "metadata": {
        "id": "WXN2jgNU6LeQ"
      }
    },
    {
      "cell_type": "code",
      "execution_count": 64,
      "metadata": {
        "id": "xRg5jIZHZ8kV"
      },
      "outputs": [],
      "source": [
        "def reshapeTree(doc, specify_prepositions=False):\n",
        "  \"\"\"\n",
        "  In:\n",
        "      doc of a sentence\n",
        "      specify_prepositions - if True preposition arcs get labels such as 'in'/'over', otherwise the label is always 'preposition'\n",
        "  Out: nx.DiGraph representing sentence with entities and verbs contracted and arcs simplified\n",
        "  \"\"\"\n",
        "  sent = list(doc.sents)[0]\n",
        "  tree = nx.DiGraph()\n",
        "  token_to_node_name = {}\n",
        "  \n",
        "  '''Add nodes for entities and generate dict to find them'''\n",
        "  noun_chunks = sent.noun_chunks\n",
        "  nc_to_node_name = {}\n",
        "  chunk_count = 0\n",
        "  for c in sent.noun_chunks:\n",
        "    node_name = f\"E_{chunk_count}\"\n",
        "    tree.add_node(node_name,lemmas=set(),cat='Entity')\n",
        "    nc_to_node_name[c] = node_name\n",
        "    chunk_count += 1\n",
        "  \n",
        "  '''Map entity tokens to nodes and add lemmas'''\n",
        "  for token in sent:\n",
        "    for nc in sent.noun_chunks:\n",
        "      if token in nc:\n",
        "        token_to_node_name[token] = nc_to_node_name[nc]\n",
        "        if token.pos != DET:\n",
        "          tree.nodes[token_to_node_name[token]]['lemmas'].add((token.lemma_,token.pos_))\n",
        "        break\n",
        "\n",
        "  '''Add verb nodes with lemmas and make dict to find them'''\n",
        "  verb_count = 0\n",
        "  for token in (t for t in sent if t.pos == VERB): # ?\n",
        "    node_name = f\"V_{verb_count}\"\n",
        "    verb_count += 1\n",
        "    tree.add_node(node_name,lemmas=set(),cat='Verb')\n",
        "    tree.nodes[node_name]['lemmas'].add((token.lemma_,token.pos_))\n",
        "    token_to_node_name[token] = node_name\n",
        "\n",
        "  ''''Handle ADV and AUX'''\n",
        "  def find_verb_ancestor(t,distance=0):\n",
        "    if t in token_to_node_name and t.pos == VERB:\n",
        "      return t\n",
        "    elif t.dep_ == 'ROOT':\n",
        "      return None\n",
        "    elif distance >= 5:\n",
        "      return None\n",
        "    else:\n",
        "      d = distance + 1\n",
        "      return find_verb_ancestor(t.head,d)\n",
        "  for token in (t for t in sent if t.pos == ADV or t.pos == AUX):\n",
        "    relevant_verb = find_verb_ancestor(token)\n",
        "    if relevant_verb:\n",
        "      token_to_node_name[token]=token_to_node_name[relevant_verb]\n",
        "      if token.pos == ADV:\n",
        "        tree.nodes[token_to_node_name[token]]['lemmas'].add((token.lemma_,token.pos_))\n",
        "    else:\n",
        "      logging.info(f'SENT: [{doc.text}] - Did not find adverb/aux target. WORD: [{token.text}].')\n",
        "      \n",
        "\n",
        "  '''Add prepositions. NOTE: this skips tokens if it does not immediately finds a token that is already mapped (i.e. NOUN/VERB)'''\n",
        "  def find_mapped_token(t,direction,distance=0):\n",
        "    if direction == 'UP':\n",
        "      if t in token_to_node_name:\n",
        "        return t\n",
        "      elif t.dep_ == 'ROOT':\n",
        "        return None\n",
        "      elif distance >= 5:\n",
        "        return None\n",
        "      else:\n",
        "        d = distance + 1\n",
        "        return find_mapped_token(t.head,'UP',d)\n",
        "  def get_pobj(t):\n",
        "    for c in t.children:\n",
        "      if c.dep == pobj and c in token_to_node_name:\n",
        "        return c\n",
        "    return None\n",
        "\n",
        "  for token in sent:\n",
        "    if token.dep == prep:\n",
        "      preper = find_mapped_token(token,'UP')\n",
        "      prepee = get_pobj(token)\n",
        "      if preper and prepee:\n",
        "        label = ''\n",
        "        if specify_prepositions:\n",
        "          label = token.lemma_\n",
        "        else:\n",
        "          label = 'preposition'\n",
        "        tree.add_edge(token_to_node_name[preper],token_to_node_name[prepee],relation=label)\n",
        "      else:\n",
        "        logging.info(f'SENT: [{doc.text}] - Did not find both sides of preposition. PREP: [{token.text}].')\n",
        "\n",
        "  ''''Find root and flip if necessary'''\n",
        "  for token in sent:\n",
        "    if token.dep_ == \"ROOT\":\n",
        "      if token.pos == VERB:\n",
        "        if token in token_to_node_name:\n",
        "          tree.add_edge('ROOT',token_to_node_name[token])\n",
        "        else:\n",
        "          logging.info(f'SENT: [{doc.text}] - Root unknown. ROOT: [{token.text}].')\n",
        "      elif token.pos == NOUN:\n",
        "        potential_root = None\n",
        "        for c in token.children:\n",
        "          if c.dep == acl:\n",
        "            potential_root = c\n",
        "            break\n",
        "        if potential_root:\n",
        "          if potential_root in token_to_node_name and token in token_to_node_name:\n",
        "            tree.add_edge('ROOT',token_to_node_name[potential_root])\n",
        "            tree.add_edge(token_to_node_name[potential_root],token_to_node_name[token],relation='subject')\n",
        "      break\n",
        "\n",
        "  '''Find nsubj and dobj relations'''\n",
        "  for token in sent:\n",
        "    if token.dep == nsubj or token.dep == dobj:\n",
        "      if token in token_to_node_name and token.head in token_to_node_name:\n",
        "        label = ''\n",
        "        if token.dep == nsubj:\n",
        "          label = 'subject'\n",
        "        else:\n",
        "          label = 'object'\n",
        "        tree.add_edge(token_to_node_name[token.head],token_to_node_name[token],relation=label)\n",
        "      else:\n",
        "        logging.info(f'SENT: [{doc.text}] - Found nsubj or dobj with unmapped tokens. TOK: [{token.text}]. HEAD: [{token.head.text}].')\n",
        "  \n",
        "  if not 'ROOT' in tree.nodes:\n",
        "    logging.info(f'SENT: [{doc.text}] - Could not produce a suitable tree.')\n",
        "    return None\n",
        "  return tree"
      ]
    },
    {
      "cell_type": "code",
      "execution_count": 65,
      "metadata": {
        "id": "icVhEpSTptco",
        "colab": {
          "base_uri": "https://localhost:8080/",
          "height": 0
        },
        "outputId": "ce6dfd28-7d22-4375-ccf4-5b83e5f5753b"
      },
      "outputs": [
        {
          "output_type": "display_data",
          "data": {
            "text/plain": [
              "<IPython.core.display.HTML object>"
            ],
            "text/html": [
              "<span class=\"tex2jax_ignore\"><svg xmlns=\"http://www.w3.org/2000/svg\" xmlns:xlink=\"http://www.w3.org/1999/xlink\" xml:lang=\"en\" id=\"211adce94b1d4a619fdf86975d6396d7-0\" class=\"displacy\" width=\"2450\" height=\"362.0\" direction=\"ltr\" style=\"max-width: none; height: 362.0px; color: #000000; background: #ffffff; font-family: Arial; direction: ltr\">\n",
              "<text class=\"displacy-token\" fill=\"currentColor\" text-anchor=\"middle\" y=\"272.0\">\n",
              "    <tspan class=\"displacy-word\" fill=\"currentColor\" x=\"50\">A</tspan>\n",
              "    <tspan class=\"displacy-tag\" dy=\"2em\" fill=\"currentColor\" x=\"50\">DT</tspan>\n",
              "</text>\n",
              "\n",
              "<text class=\"displacy-token\" fill=\"currentColor\" text-anchor=\"middle\" y=\"272.0\">\n",
              "    <tspan class=\"displacy-word\" fill=\"currentColor\" x=\"200\">man</tspan>\n",
              "    <tspan class=\"displacy-tag\" dy=\"2em\" fill=\"currentColor\" x=\"200\">NN</tspan>\n",
              "</text>\n",
              "\n",
              "<text class=\"displacy-token\" fill=\"currentColor\" text-anchor=\"middle\" y=\"272.0\">\n",
              "    <tspan class=\"displacy-word\" fill=\"currentColor\" x=\"350\">in</tspan>\n",
              "    <tspan class=\"displacy-tag\" dy=\"2em\" fill=\"currentColor\" x=\"350\">IN</tspan>\n",
              "</text>\n",
              "\n",
              "<text class=\"displacy-token\" fill=\"currentColor\" text-anchor=\"middle\" y=\"272.0\">\n",
              "    <tspan class=\"displacy-word\" fill=\"currentColor\" x=\"500\">a</tspan>\n",
              "    <tspan class=\"displacy-tag\" dy=\"2em\" fill=\"currentColor\" x=\"500\">DT</tspan>\n",
              "</text>\n",
              "\n",
              "<text class=\"displacy-token\" fill=\"currentColor\" text-anchor=\"middle\" y=\"272.0\">\n",
              "    <tspan class=\"displacy-word\" fill=\"currentColor\" x=\"650\">suit</tspan>\n",
              "    <tspan class=\"displacy-tag\" dy=\"2em\" fill=\"currentColor\" x=\"650\">NN</tspan>\n",
              "</text>\n",
              "\n",
              "<text class=\"displacy-token\" fill=\"currentColor\" text-anchor=\"middle\" y=\"272.0\">\n",
              "    <tspan class=\"displacy-word\" fill=\"currentColor\" x=\"800\">is</tspan>\n",
              "    <tspan class=\"displacy-tag\" dy=\"2em\" fill=\"currentColor\" x=\"800\">VBZ</tspan>\n",
              "</text>\n",
              "\n",
              "<text class=\"displacy-token\" fill=\"currentColor\" text-anchor=\"middle\" y=\"272.0\">\n",
              "    <tspan class=\"displacy-word\" fill=\"currentColor\" x=\"950\">running</tspan>\n",
              "    <tspan class=\"displacy-tag\" dy=\"2em\" fill=\"currentColor\" x=\"950\">VBG</tspan>\n",
              "</text>\n",
              "\n",
              "<text class=\"displacy-token\" fill=\"currentColor\" text-anchor=\"middle\" y=\"272.0\">\n",
              "    <tspan class=\"displacy-word\" fill=\"currentColor\" x=\"1100\">past</tspan>\n",
              "    <tspan class=\"displacy-tag\" dy=\"2em\" fill=\"currentColor\" x=\"1100\">IN</tspan>\n",
              "</text>\n",
              "\n",
              "<text class=\"displacy-token\" fill=\"currentColor\" text-anchor=\"middle\" y=\"272.0\">\n",
              "    <tspan class=\"displacy-word\" fill=\"currentColor\" x=\"1250\">two</tspan>\n",
              "    <tspan class=\"displacy-tag\" dy=\"2em\" fill=\"currentColor\" x=\"1250\">CD</tspan>\n",
              "</text>\n",
              "\n",
              "<text class=\"displacy-token\" fill=\"currentColor\" text-anchor=\"middle\" y=\"272.0\">\n",
              "    <tspan class=\"displacy-word\" fill=\"currentColor\" x=\"1400\">other</tspan>\n",
              "    <tspan class=\"displacy-tag\" dy=\"2em\" fill=\"currentColor\" x=\"1400\">JJ</tspan>\n",
              "</text>\n",
              "\n",
              "<text class=\"displacy-token\" fill=\"currentColor\" text-anchor=\"middle\" y=\"272.0\">\n",
              "    <tspan class=\"displacy-word\" fill=\"currentColor\" x=\"1550\">gentleman,</tspan>\n",
              "    <tspan class=\"displacy-tag\" dy=\"2em\" fill=\"currentColor\" x=\"1550\">NN</tspan>\n",
              "</text>\n",
              "\n",
              "<text class=\"displacy-token\" fill=\"currentColor\" text-anchor=\"middle\" y=\"272.0\">\n",
              "    <tspan class=\"displacy-word\" fill=\"currentColor\" x=\"1700\">also</tspan>\n",
              "    <tspan class=\"displacy-tag\" dy=\"2em\" fill=\"currentColor\" x=\"1700\">RB</tspan>\n",
              "</text>\n",
              "\n",
              "<text class=\"displacy-token\" fill=\"currentColor\" text-anchor=\"middle\" y=\"272.0\">\n",
              "    <tspan class=\"displacy-word\" fill=\"currentColor\" x=\"1850\">dressed</tspan>\n",
              "    <tspan class=\"displacy-tag\" dy=\"2em\" fill=\"currentColor\" x=\"1850\">VBN</tspan>\n",
              "</text>\n",
              "\n",
              "<text class=\"displacy-token\" fill=\"currentColor\" text-anchor=\"middle\" y=\"272.0\">\n",
              "    <tspan class=\"displacy-word\" fill=\"currentColor\" x=\"2000\">in</tspan>\n",
              "    <tspan class=\"displacy-tag\" dy=\"2em\" fill=\"currentColor\" x=\"2000\">IN</tspan>\n",
              "</text>\n",
              "\n",
              "<text class=\"displacy-token\" fill=\"currentColor\" text-anchor=\"middle\" y=\"272.0\">\n",
              "    <tspan class=\"displacy-word\" fill=\"currentColor\" x=\"2150\">a</tspan>\n",
              "    <tspan class=\"displacy-tag\" dy=\"2em\" fill=\"currentColor\" x=\"2150\">DT</tspan>\n",
              "</text>\n",
              "\n",
              "<text class=\"displacy-token\" fill=\"currentColor\" text-anchor=\"middle\" y=\"272.0\">\n",
              "    <tspan class=\"displacy-word\" fill=\"currentColor\" x=\"2300\">suit.</tspan>\n",
              "    <tspan class=\"displacy-tag\" dy=\"2em\" fill=\"currentColor\" x=\"2300\">NN</tspan>\n",
              "</text>\n",
              "\n",
              "<g class=\"displacy-arrow\">\n",
              "    <path class=\"displacy-arc\" id=\"arrow-211adce94b1d4a619fdf86975d6396d7-0-0\" stroke-width=\"2px\" d=\"M62,227.0 62,202.0 194.0,202.0 194.0,227.0\" fill=\"none\" stroke=\"currentColor\"/>\n",
              "    <text dy=\"1.25em\" style=\"font-size: 0.8em; letter-spacing: 1px\">\n",
              "        <textPath xlink:href=\"#arrow-211adce94b1d4a619fdf86975d6396d7-0-0\" class=\"displacy-label\" startOffset=\"50%\" side=\"left\" fill=\"currentColor\" text-anchor=\"middle\">det</textPath>\n",
              "    </text>\n",
              "    <path class=\"displacy-arrowhead\" d=\"M62,229.0 L58,221.0 66,221.0\" fill=\"currentColor\"/>\n",
              "</g>\n",
              "\n",
              "<g class=\"displacy-arrow\">\n",
              "    <path class=\"displacy-arc\" id=\"arrow-211adce94b1d4a619fdf86975d6396d7-0-1\" stroke-width=\"2px\" d=\"M212,227.0 212,152.0 950.0,152.0 950.0,227.0\" fill=\"none\" stroke=\"currentColor\"/>\n",
              "    <text dy=\"1.25em\" style=\"font-size: 0.8em; letter-spacing: 1px\">\n",
              "        <textPath xlink:href=\"#arrow-211adce94b1d4a619fdf86975d6396d7-0-1\" class=\"displacy-label\" startOffset=\"50%\" side=\"left\" fill=\"currentColor\" text-anchor=\"middle\">nsubj</textPath>\n",
              "    </text>\n",
              "    <path class=\"displacy-arrowhead\" d=\"M212,229.0 L208,221.0 216,221.0\" fill=\"currentColor\"/>\n",
              "</g>\n",
              "\n",
              "<g class=\"displacy-arrow\">\n",
              "    <path class=\"displacy-arc\" id=\"arrow-211adce94b1d4a619fdf86975d6396d7-0-2\" stroke-width=\"2px\" d=\"M212,227.0 212,202.0 344.0,202.0 344.0,227.0\" fill=\"none\" stroke=\"currentColor\"/>\n",
              "    <text dy=\"1.25em\" style=\"font-size: 0.8em; letter-spacing: 1px\">\n",
              "        <textPath xlink:href=\"#arrow-211adce94b1d4a619fdf86975d6396d7-0-2\" class=\"displacy-label\" startOffset=\"50%\" side=\"left\" fill=\"currentColor\" text-anchor=\"middle\">prep</textPath>\n",
              "    </text>\n",
              "    <path class=\"displacy-arrowhead\" d=\"M344.0,229.0 L348.0,221.0 340.0,221.0\" fill=\"currentColor\"/>\n",
              "</g>\n",
              "\n",
              "<g class=\"displacy-arrow\">\n",
              "    <path class=\"displacy-arc\" id=\"arrow-211adce94b1d4a619fdf86975d6396d7-0-3\" stroke-width=\"2px\" d=\"M512,227.0 512,202.0 644.0,202.0 644.0,227.0\" fill=\"none\" stroke=\"currentColor\"/>\n",
              "    <text dy=\"1.25em\" style=\"font-size: 0.8em; letter-spacing: 1px\">\n",
              "        <textPath xlink:href=\"#arrow-211adce94b1d4a619fdf86975d6396d7-0-3\" class=\"displacy-label\" startOffset=\"50%\" side=\"left\" fill=\"currentColor\" text-anchor=\"middle\">det</textPath>\n",
              "    </text>\n",
              "    <path class=\"displacy-arrowhead\" d=\"M512,229.0 L508,221.0 516,221.0\" fill=\"currentColor\"/>\n",
              "</g>\n",
              "\n",
              "<g class=\"displacy-arrow\">\n",
              "    <path class=\"displacy-arc\" id=\"arrow-211adce94b1d4a619fdf86975d6396d7-0-4\" stroke-width=\"2px\" d=\"M362,227.0 362,177.0 647.0,177.0 647.0,227.0\" fill=\"none\" stroke=\"currentColor\"/>\n",
              "    <text dy=\"1.25em\" style=\"font-size: 0.8em; letter-spacing: 1px\">\n",
              "        <textPath xlink:href=\"#arrow-211adce94b1d4a619fdf86975d6396d7-0-4\" class=\"displacy-label\" startOffset=\"50%\" side=\"left\" fill=\"currentColor\" text-anchor=\"middle\">pobj</textPath>\n",
              "    </text>\n",
              "    <path class=\"displacy-arrowhead\" d=\"M647.0,229.0 L651.0,221.0 643.0,221.0\" fill=\"currentColor\"/>\n",
              "</g>\n",
              "\n",
              "<g class=\"displacy-arrow\">\n",
              "    <path class=\"displacy-arc\" id=\"arrow-211adce94b1d4a619fdf86975d6396d7-0-5\" stroke-width=\"2px\" d=\"M812,227.0 812,202.0 944.0,202.0 944.0,227.0\" fill=\"none\" stroke=\"currentColor\"/>\n",
              "    <text dy=\"1.25em\" style=\"font-size: 0.8em; letter-spacing: 1px\">\n",
              "        <textPath xlink:href=\"#arrow-211adce94b1d4a619fdf86975d6396d7-0-5\" class=\"displacy-label\" startOffset=\"50%\" side=\"left\" fill=\"currentColor\" text-anchor=\"middle\">aux</textPath>\n",
              "    </text>\n",
              "    <path class=\"displacy-arrowhead\" d=\"M812,229.0 L808,221.0 816,221.0\" fill=\"currentColor\"/>\n",
              "</g>\n",
              "\n",
              "<g class=\"displacy-arrow\">\n",
              "    <path class=\"displacy-arc\" id=\"arrow-211adce94b1d4a619fdf86975d6396d7-0-6\" stroke-width=\"2px\" d=\"M962,227.0 962,202.0 1094.0,202.0 1094.0,227.0\" fill=\"none\" stroke=\"currentColor\"/>\n",
              "    <text dy=\"1.25em\" style=\"font-size: 0.8em; letter-spacing: 1px\">\n",
              "        <textPath xlink:href=\"#arrow-211adce94b1d4a619fdf86975d6396d7-0-6\" class=\"displacy-label\" startOffset=\"50%\" side=\"left\" fill=\"currentColor\" text-anchor=\"middle\">prep</textPath>\n",
              "    </text>\n",
              "    <path class=\"displacy-arrowhead\" d=\"M1094.0,229.0 L1098.0,221.0 1090.0,221.0\" fill=\"currentColor\"/>\n",
              "</g>\n",
              "\n",
              "<g class=\"displacy-arrow\">\n",
              "    <path class=\"displacy-arc\" id=\"arrow-211adce94b1d4a619fdf86975d6396d7-0-7\" stroke-width=\"2px\" d=\"M1262,227.0 1262,177.0 1547.0,177.0 1547.0,227.0\" fill=\"none\" stroke=\"currentColor\"/>\n",
              "    <text dy=\"1.25em\" style=\"font-size: 0.8em; letter-spacing: 1px\">\n",
              "        <textPath xlink:href=\"#arrow-211adce94b1d4a619fdf86975d6396d7-0-7\" class=\"displacy-label\" startOffset=\"50%\" side=\"left\" fill=\"currentColor\" text-anchor=\"middle\">nummod</textPath>\n",
              "    </text>\n",
              "    <path class=\"displacy-arrowhead\" d=\"M1262,229.0 L1258,221.0 1266,221.0\" fill=\"currentColor\"/>\n",
              "</g>\n",
              "\n",
              "<g class=\"displacy-arrow\">\n",
              "    <path class=\"displacy-arc\" id=\"arrow-211adce94b1d4a619fdf86975d6396d7-0-8\" stroke-width=\"2px\" d=\"M1412,227.0 1412,202.0 1544.0,202.0 1544.0,227.0\" fill=\"none\" stroke=\"currentColor\"/>\n",
              "    <text dy=\"1.25em\" style=\"font-size: 0.8em; letter-spacing: 1px\">\n",
              "        <textPath xlink:href=\"#arrow-211adce94b1d4a619fdf86975d6396d7-0-8\" class=\"displacy-label\" startOffset=\"50%\" side=\"left\" fill=\"currentColor\" text-anchor=\"middle\">amod</textPath>\n",
              "    </text>\n",
              "    <path class=\"displacy-arrowhead\" d=\"M1412,229.0 L1408,221.0 1416,221.0\" fill=\"currentColor\"/>\n",
              "</g>\n",
              "\n",
              "<g class=\"displacy-arrow\">\n",
              "    <path class=\"displacy-arc\" id=\"arrow-211adce94b1d4a619fdf86975d6396d7-0-9\" stroke-width=\"2px\" d=\"M1112,227.0 1112,152.0 1550.0,152.0 1550.0,227.0\" fill=\"none\" stroke=\"currentColor\"/>\n",
              "    <text dy=\"1.25em\" style=\"font-size: 0.8em; letter-spacing: 1px\">\n",
              "        <textPath xlink:href=\"#arrow-211adce94b1d4a619fdf86975d6396d7-0-9\" class=\"displacy-label\" startOffset=\"50%\" side=\"left\" fill=\"currentColor\" text-anchor=\"middle\">pobj</textPath>\n",
              "    </text>\n",
              "    <path class=\"displacy-arrowhead\" d=\"M1550.0,229.0 L1554.0,221.0 1546.0,221.0\" fill=\"currentColor\"/>\n",
              "</g>\n",
              "\n",
              "<g class=\"displacy-arrow\">\n",
              "    <path class=\"displacy-arc\" id=\"arrow-211adce94b1d4a619fdf86975d6396d7-0-10\" stroke-width=\"2px\" d=\"M1712,227.0 1712,202.0 1844.0,202.0 1844.0,227.0\" fill=\"none\" stroke=\"currentColor\"/>\n",
              "    <text dy=\"1.25em\" style=\"font-size: 0.8em; letter-spacing: 1px\">\n",
              "        <textPath xlink:href=\"#arrow-211adce94b1d4a619fdf86975d6396d7-0-10\" class=\"displacy-label\" startOffset=\"50%\" side=\"left\" fill=\"currentColor\" text-anchor=\"middle\">advmod</textPath>\n",
              "    </text>\n",
              "    <path class=\"displacy-arrowhead\" d=\"M1712,229.0 L1708,221.0 1716,221.0\" fill=\"currentColor\"/>\n",
              "</g>\n",
              "\n",
              "<g class=\"displacy-arrow\">\n",
              "    <path class=\"displacy-arc\" id=\"arrow-211adce94b1d4a619fdf86975d6396d7-0-11\" stroke-width=\"2px\" d=\"M1562,227.0 1562,177.0 1847.0,177.0 1847.0,227.0\" fill=\"none\" stroke=\"currentColor\"/>\n",
              "    <text dy=\"1.25em\" style=\"font-size: 0.8em; letter-spacing: 1px\">\n",
              "        <textPath xlink:href=\"#arrow-211adce94b1d4a619fdf86975d6396d7-0-11\" class=\"displacy-label\" startOffset=\"50%\" side=\"left\" fill=\"currentColor\" text-anchor=\"middle\">acl</textPath>\n",
              "    </text>\n",
              "    <path class=\"displacy-arrowhead\" d=\"M1847.0,229.0 L1851.0,221.0 1843.0,221.0\" fill=\"currentColor\"/>\n",
              "</g>\n",
              "\n",
              "<g class=\"displacy-arrow\">\n",
              "    <path class=\"displacy-arc\" id=\"arrow-211adce94b1d4a619fdf86975d6396d7-0-12\" stroke-width=\"2px\" d=\"M1862,227.0 1862,202.0 1994.0,202.0 1994.0,227.0\" fill=\"none\" stroke=\"currentColor\"/>\n",
              "    <text dy=\"1.25em\" style=\"font-size: 0.8em; letter-spacing: 1px\">\n",
              "        <textPath xlink:href=\"#arrow-211adce94b1d4a619fdf86975d6396d7-0-12\" class=\"displacy-label\" startOffset=\"50%\" side=\"left\" fill=\"currentColor\" text-anchor=\"middle\">prep</textPath>\n",
              "    </text>\n",
              "    <path class=\"displacy-arrowhead\" d=\"M1994.0,229.0 L1998.0,221.0 1990.0,221.0\" fill=\"currentColor\"/>\n",
              "</g>\n",
              "\n",
              "<g class=\"displacy-arrow\">\n",
              "    <path class=\"displacy-arc\" id=\"arrow-211adce94b1d4a619fdf86975d6396d7-0-13\" stroke-width=\"2px\" d=\"M2162,227.0 2162,202.0 2294.0,202.0 2294.0,227.0\" fill=\"none\" stroke=\"currentColor\"/>\n",
              "    <text dy=\"1.25em\" style=\"font-size: 0.8em; letter-spacing: 1px\">\n",
              "        <textPath xlink:href=\"#arrow-211adce94b1d4a619fdf86975d6396d7-0-13\" class=\"displacy-label\" startOffset=\"50%\" side=\"left\" fill=\"currentColor\" text-anchor=\"middle\">det</textPath>\n",
              "    </text>\n",
              "    <path class=\"displacy-arrowhead\" d=\"M2162,229.0 L2158,221.0 2166,221.0\" fill=\"currentColor\"/>\n",
              "</g>\n",
              "\n",
              "<g class=\"displacy-arrow\">\n",
              "    <path class=\"displacy-arc\" id=\"arrow-211adce94b1d4a619fdf86975d6396d7-0-14\" stroke-width=\"2px\" d=\"M2012,227.0 2012,177.0 2297.0,177.0 2297.0,227.0\" fill=\"none\" stroke=\"currentColor\"/>\n",
              "    <text dy=\"1.25em\" style=\"font-size: 0.8em; letter-spacing: 1px\">\n",
              "        <textPath xlink:href=\"#arrow-211adce94b1d4a619fdf86975d6396d7-0-14\" class=\"displacy-label\" startOffset=\"50%\" side=\"left\" fill=\"currentColor\" text-anchor=\"middle\">pobj</textPath>\n",
              "    </text>\n",
              "    <path class=\"displacy-arrowhead\" d=\"M2297.0,229.0 L2301.0,221.0 2293.0,221.0\" fill=\"currentColor\"/>\n",
              "</g>\n",
              "</svg></span>"
            ]
          },
          "metadata": {}
        },
        {
          "output_type": "stream",
          "name": "stdout",
          "text": [
            "DiGraph with 7 nodes and 5 edges\n",
            "[('E_0', {'lemmas': {('man', 'NOUN')}, 'cat': 'Entity'}), ('E_1', {'lemmas': {('suit', 'NOUN')}, 'cat': 'Entity'}), ('E_2', {'lemmas': {('gentleman', 'NOUN'), ('other', 'ADJ'), ('two', 'NUM')}, 'cat': 'Entity'}), ('E_3', {'lemmas': {('suit', 'NOUN')}, 'cat': 'Entity'}), ('V_0', {'lemmas': {('run', 'VERB')}, 'cat': 'Verb'}), ('V_1', {'lemmas': {('also', 'ADV'), ('dress', 'VERB')}, 'cat': 'Verb'}), ('ROOT', {})]\n"
          ]
        },
        {
          "output_type": "display_data",
          "data": {
            "text/plain": [
              "<Figure size 432x288 with 1 Axes>"
            ],
            "image/png": "[encoded data removed]"
          },
          "metadata": {}
        }
      ],
      "source": [
        "'''Example demonstrating functionality'''\n",
        "import matplotlib.pyplot as plt\n",
        "\n",
        "# doc=NLP(\"Two men in green shirts are standing in a yard.\")\n",
        "# doc = NLP(\"A man in a red life vest is riding in a canoe.\")\n",
        "doc=NLP(\"A man in a suit is running past two other gentleman, also dressed in a suit.\")\n",
        "# doc=NLP(\"A woman with a large purse is walking by a gate.\")\n",
        "display_doc_dep(doc)\n",
        "tree = reshapeTree(doc)\n",
        "nx.draw(tree, with_labels=True, font_weight='bold')\n",
        "print(tree)\n",
        "print(list(tree.nodes(data=True)))"
      ]
    },
    {
      "cell_type": "code",
      "execution_count": 66,
      "metadata": {
        "id": "7nX1uHzAo7Bl",
        "colab": {
          "base_uri": "https://localhost:8080/"
        },
        "outputId": "2f67a6ae-c4e4-4613-ad1b-877a2b7ddeb4"
      },
      "outputs": [
        {
          "output_type": "stream",
          "name": "stdout",
          "text": [
            "[('E_0', {'lemmas': {('closeup', 'NOUN')}, 'cat': 'Entity'}), ('E_1', {'lemmas': {('old', 'ADJ'), ('man', 'NOUN')}, 'cat': 'Entity'}), ('E_2', {'lemmas': {('glass', 'NOUN')}, 'cat': 'Entity'}), ('V_0', {'lemmas': {('speak', 'VERB')}, 'cat': 'Verb'}), ('ROOT', {})]\n",
            "[('E_0', {'lemmas': {('old', 'ADJ'), ('man', 'NOUN')}, 'cat': 'Entity'}), ('V_0', {'lemmas': {('talk', 'VERB')}, 'cat': 'Verb'}), ('ROOT', {})]\n"
          ]
        }
      ],
      "source": [
        "'''Example demonstrating functionality'''\n",
        "import matplotlib.pyplot as plt\n",
        "doc1 = NLP(\"A closeup of an older man with glasses speaking.\")\n",
        "doc = NLP(\"An older man is talking.\")\n",
        "\n",
        "# doc=NLP(\"Two men in green shirts are standing in a yard.\")\n",
        "# doc = NLP(\"A man in a red life vest is riding in a canoe.\")\n",
        "#doc=NLP(\"A man in a suit is running past two other gentleman, also dressed in a suit.\")\n",
        "# doc=NLP(\"A woman with a large purse is walking by a gate.\")\n",
        "#display_doc_dep(doc)\n",
        "tree1 = reshapeTree(doc1)\n",
        "tree = reshapeTree(doc)\n",
        "#nx.draw(tree, with_labels=True, font_weight='bold')\n",
        "#print(tree)\n",
        "print(list(tree1.nodes(data=True)))\n",
        "print(list(tree.nodes(data=True)))"
      ]
    },
    {
      "cell_type": "markdown",
      "metadata": {
        "id": "SPH3eNQSSN78"
      },
      "source": [
        "# Generalize"
      ]
    },
    {
      "cell_type": "markdown",
      "source": [
        "In this section we have function that we have generalized so we can use them for both the Baseline and the Tree system. "
      ],
      "metadata": {
        "id": "jlFBY8_C7cUW"
      }
    },
    {
      "cell_type": "code",
      "execution_count": 67,
      "metadata": {
        "id": "BBfnUq7gXsZ7"
      },
      "outputs": [],
      "source": [
        "def antonym(w1, w2, pos):\n",
        "\n",
        "  contradict = {'sit': ['run', 'walk'], 'play': ['sleep'], 'dog': ['cat'],\n",
        "  'also': ['alone'], 'so': ['almost'], 'together': ['only'], 'above': ['down'], 'casually': ['inside'],\n",
        "  'pink': ['blue'], 'yellow': ['red'], 'brown': ['black'],\n",
        "  'run': ['sit'], 'walk': ['sit'], 'sleep': ['play'], 'cat': ['dog'],\n",
        "  'alone': ['also'], 'almost': ['so'], 'only': ['together'], 'down': ['above'], 'inside': ['casually'],\n",
        "  'blue': ['pink'], 'red': ['yellow'], 'black': ['brown']\n",
        "   }\n",
        "\n",
        "  w1_word = w1\n",
        "  w2_word = w2\n",
        "\n",
        "  for key, val in contradict.items():\n",
        "    if w1 == key:\n",
        "      if w2 in val:\n",
        "        return True\n",
        "\n",
        "  w2 = wn.synsets(w2)\n",
        "\n",
        "  if pos == \"NOUN\":\n",
        "    w2 = wn.synsets(w2_word, pos = wn.NOUN)\n",
        "  if pos == \"VERB\":\n",
        "    w2 = wn.synsets(w2_word, pos = wn.VERB)\n",
        "\n",
        "  for ss in w2:\n",
        "    for lemma in ss.lemmas():\n",
        "      for antonym in lemma.antonyms():\n",
        "        if w1_word == antonym.name():\n",
        "          return True\n",
        "  return False\n",
        "\n",
        "def synonym(w1: str, w2: str, pos):\n",
        "\n",
        "    entaildict = {'run': ['be'], 'ride': ['be'], 'look':['be'], 'be': ['run, ride, look'],\n",
        "    'dog': ['animal'], 'animal': ['dog'], 'long': ['outdoors'], 'casually': ['outside'], 'almost': ['so', 'heavily', 'inside', 'barely'], \n",
        "    'straight': ['outside'], 'outdoors': ['long'], 'outside': ['casually, straight', 'black'], 'so': ['almost'], 'heavily': ['almost'],\n",
        "    'inside': ['almost'], 'barely': ['almost'], 'gray': ['other'], 'black': ['outside']\n",
        "      }\n",
        "\n",
        "\n",
        "    for key, val in entaildict.items():\n",
        "      if w1 == key:\n",
        "        if w2 in val:\n",
        "          return True\n",
        "  \n",
        "    synonyms1 = []\n",
        "    synonyms2 = []\n",
        "\n",
        "    w1_word = w1\n",
        "    w2_word = w2\n",
        "\n",
        "    w1 = wn.synsets(w1)\n",
        "    w2 = wn.synsets(w2)\n",
        "\n",
        "    if pos == \"NOUN\":\n",
        "      w1 = wn.synsets(w1_word, pos = wn.NOUN)\n",
        "      w2 = wn.synsets(w2_word, pos = wn.NOUN)\n",
        "    if pos == \"VERB\":\n",
        "      w1 = wn.synsets(w1_word, pos = wn.VERB)\n",
        "      w2 = wn.synsets(w2_word, pos = wn.VERB)\n",
        "\n",
        "    for syn in w1:\n",
        "        for i in syn.lemmas():\n",
        "            synonyms1.append(syn.name())\n",
        "\n",
        "    for syn in w2:\n",
        "        for i in syn.lemmas():\n",
        "            synonyms2.append(syn.name())\n",
        "\n",
        "    for w in synonyms1:\n",
        "      if w in synonyms2:\n",
        "        return True\n",
        "        break\n",
        "    return False\n",
        "\n",
        "def hyponym_hypernym(w1: str, w2: str, pos):\n",
        "\n",
        "  neutraldict = { 'sit': ['wait', 'enjoy'], 'stand': ['wait', 'look', 'go'], 'wait': ['sit', 'stand'], \n",
        "  'look': ['stand'], 'enjoy': ['sit'], 'go': ['stand'], 'man': ['friend'], 'friend': ['man'], 'man': ['construction'],\n",
        "  'construction': ['man'], 'young': ['about'], 'brown': ['white'], 'about': ['young'], 'white':['brown']\n",
        "  }\n",
        "\n",
        "  for key, val in neutraldict.items():\n",
        "    if w1 == key:\n",
        "      if w2 in val:\n",
        "        return False\n",
        "  \n",
        "  w1_word = w1\n",
        "  w2_word = w2\n",
        "\n",
        "  w1 = wn.synsets(w1_word)\n",
        "  w2 = wn.synsets(w2_word)\n",
        "\n",
        "  if pos == \"NOUN\":\n",
        "    w1 = wn.synsets(w1_word, pos = wn.NOUN)\n",
        "    w2 = wn.synsets(w2_word, pos = wn.NOUN)\n",
        "  if pos == \"VERB\":\n",
        "    w1 = wn.synsets(w1_word, pos = wn.VERB)\n",
        "    w2 = wn.synsets(w2_word, pos = wn.VERB)\n",
        "  \n",
        "  for w in w1:\n",
        "    for u in w2:\n",
        "      test = wn.synset(w.name()).lowest_common_hypernyms(wn.synset(u.name()))\n",
        "      if u in test:\n",
        "        return True # True if hypothesis is more general than premis\n",
        "      if w in test:\n",
        "        return False\n",
        "\n",
        "def co_hyponyms_base(w1: str, w2: str, pos): # dog and cat\n",
        "    w1_word = w1\n",
        "    w2_word = w2\n",
        "\n",
        "    w1 = wn.synsets(w1_word)\n",
        "    w2 = wn.synsets(w2_word)\n",
        "\n",
        "    if pos == \"NOUN\":\n",
        "      w1 = wn.synsets(w1_word, pos = wn.NOUN)\n",
        "      w2 = wn.synsets(w2_word, pos = wn.NOUN)\n",
        "    if pos == \"VERB\":\n",
        "      w1 = wn.synsets(w1_word, pos = wn.VERB)\n",
        "      w2 = wn.synsets(w2_word, pos = wn.VERB)\n",
        "\n",
        "    hypernyms1 = []\n",
        "    hypernyms2 = []\n",
        "\n",
        "    for syn in w1:\n",
        "            for i in syn.lemmas():\n",
        "              for j in syn.hypernyms():\n",
        "                    hypernyms1.append(j.name())\n",
        "    for syn in w2:\n",
        "        for i in syn.lemmas():\n",
        "          for j in syn.hypernyms():\n",
        "              hypernyms2.append(j.name())\n",
        "\n",
        "    for w in hypernyms1:\n",
        "      if w in hypernyms2:\n",
        "        return True\n",
        "        break\n",
        "\n",
        "    return False\n",
        "\n",
        "def co_hyponyms_tree(w1: str, w2: str, pos):\n",
        "    w1_word = w1\n",
        "    w2_word = w2\n",
        "\n",
        "    w1 = wn.synsets(w1_word)\n",
        "    w2 = wn.synsets(w2_word)\n",
        "\n",
        "    if pos == \"NOUN\":\n",
        "      w1 = wn.synsets(w1_word, pos = wn.NOUN)\n",
        "      w2 = wn.synsets(w2_word, pos = wn.NOUN)\n",
        "    if pos == \"VERB\":\n",
        "      w1 = wn.synsets(w1_word, pos = wn.VERB)\n",
        "      w2 = wn.synsets(w2_word, pos = wn.VERB)\n",
        "\n",
        "    if len(w1) > 0 and len(w2) > 0:\n",
        "      shortest = w1[0].shortest_path_distance(w2[0], simulate_root=False)\n",
        "      shortest = int(0 if shortest is None else shortest) # convert Nonetype to int\n",
        "      if shortest <= 3:\n",
        "        return True\n",
        "\n",
        "    return False"
      ]
    },
    {
      "cell_type": "code",
      "execution_count": 68,
      "metadata": {
        "id": "s5pTKWMRPsY7"
      },
      "outputs": [],
      "source": [
        "def compareLemmas(lemma_p, lemma_h):\n",
        "    res = [] # store labels for the different word pairs\n",
        "    for i in lemma_p:\n",
        "      for j in lemma_h: \n",
        "        if i[1] == j[1]:   # Check if i[1] and j[1] have the same POS\n",
        "          pos = i[1]\n",
        "          switch_functions = [True, True, True, True]\n",
        "\n",
        "          token_p = i[0]\n",
        "          token_h = j[0]\n",
        "\n",
        "          if token_p == token_h:\n",
        "            res.append('entailment')\n",
        "            continue\n",
        "\n",
        "          if switch_functions[0] == True:\n",
        "            if antonym(token_p, token_h, pos):\n",
        "              res.append('contradiction')\n",
        "              continue\n",
        "\n",
        "          if switch_functions[1] == True:\n",
        "            if synonym(token_p, token_h, pos):\n",
        "                res.append('entailment')\n",
        "                continue\n",
        "          \n",
        "          if switch_functions[2] == True:\n",
        "            hyponyms = hyponym_hypernym(token_p, token_h, pos)\n",
        "            if hyponyms == False: # premise more general\n",
        "                res.append('neutral')\n",
        "                continue\n",
        "            if hyponyms == True: # hypothesis more general\n",
        "                res.append('entailment')\n",
        "                continue\n",
        "\n",
        "          if switch_functions[3] == True:\n",
        "            if co_hyponyms_tree(token_p, token_h, pos):\n",
        "              res.append('contradiction')\n",
        "              continue\n",
        "\n",
        "          res.append('neutral')\n",
        "    \n",
        "    return res"
      ]
    },
    {
      "cell_type": "code",
      "execution_count": 69,
      "metadata": {
        "id": "3Fm1o2chKcgf"
      },
      "outputs": [],
      "source": [
        "def compareTrees(tree_p, tree_h):\n",
        "  '''\n",
        "  idea\n",
        "  IN:\n",
        "      tree p and tree h from the recursion function\n",
        "  OUT:\n",
        "      label by using hyponym_hypernym, antonym, and synonym functions in the more_general function\n",
        "  '''\n",
        "\n",
        "  edge_p = tree_p.edges(data=True)\n",
        "  edge_h = tree_h.edges(data=True)\n",
        "\n",
        "  res = []\n",
        "  for i in edge_h:\n",
        "    for j in edge_p:\n",
        "      if i[1][0] == j[1][0]: # check if the entities are the same\n",
        "        if i[2] != None and j[2] == None:  # if word in hypothesis but not in premise\n",
        "          res.append('neutral')\n",
        "        if i[2] == None and j[2] != None: # if word in premise but not in hypothesis\n",
        "          res.append('entailment')\n",
        "        if i[2] == j[2]:\n",
        "          lemma_h = tree_h.nodes[i[1]]['lemmas'] \n",
        "          lemma_p = tree_p.nodes[j[1]]['lemmas'] \n",
        "          comparison = compareLemmas(lemma_p, lemma_h)\n",
        "          for l in comparison:\n",
        "            res.append(l)\n",
        "\n",
        "  if 'contradiction' in res:\n",
        "    return 'contradiction'\n",
        "\n",
        "  res_temp_set = list(set(res))\n",
        "  if len(res_temp_set) == 1:\n",
        "    return res_temp_set[0]\n",
        "\n",
        "  else:\n",
        "    return collections.Counter(res).most_common(1)[0][0]"
      ]
    },
    {
      "cell_type": "markdown",
      "metadata": {
        "id": "63ymcEUmf17b"
      },
      "source": [
        "# Results"
      ]
    },
    {
      "cell_type": "code",
      "source": [
        "def system_statistics(dataset : str, level : int) : \n",
        "  \"\"\"\n",
        "  Given a string dataset - {sub_train, test}\n",
        "  Calculate the true and predicted labels and print the statistics\n",
        "  \"\"\"\n",
        "  true_labels = []\n",
        "  pred_labels = []\n",
        "  trees = 0\n",
        "\n",
        "  for p in SNLI[dataset] :\n",
        "    tree_p = reshapeTree(NLP(SNLI[dataset][p]['p']))\n",
        "    tree_h = reshapeTree(NLP(SNLI[dataset][p]['h']))\n",
        "\n",
        "    if tree_p and tree_h and level != 0: # If both premise and hypothesis are converted to tree\n",
        "      true_labels.append(SNLI[dataset][p]['g'])\n",
        "      pred_labels.append(compareTrees(tree_p, tree_h))\n",
        "      trees += 1\n",
        "    elif level != 1: # use baseline system\n",
        "      true_labels.append(SNLI[dataset][p]['g'])\n",
        "      pred_labels.append(classify_problem(SNLI[dataset][p]['p'], SNLI[dataset][p]['h']))\n",
        "\n",
        "\n",
        "  ### --- Print important numbers \n",
        "  print(\"In the test dataset there are {} probelms, \\n from which {} can be transformed into trees \\n and for {} we have used the baseline system\".format(len(SNLI[dataset]), trees, (len(SNLI[dataset])-trees)))\n",
        "  print(\"=>> In the true labels there are =>>\", collections.Counter(true_labels))\n",
        "  print(\"=>> In the predicted labels there are =>>\", collections.Counter(pred_labels))\n",
        "\n",
        "  ### --- Confudion matrices \n",
        "  confusion_matrix = metrics.confusion_matrix(true_labels, pred_labels)\n",
        "  cm_display = metrics.ConfusionMatrixDisplay(confusion_matrix = confusion_matrix, display_labels = ['contradiction', 'entailment', 'neutral'])\n",
        "\n",
        "  #Create normalized Confusion Matrix\n",
        "  cm_normalized = confusion_matrix.astype('float') / confusion_matrix.sum(axis=1)[:, np.newaxis]\n",
        "  sns.heatmap(cm_normalized, annot=True, linewidths = 0.01)\n",
        "\n",
        "  cm_display.plot()\n",
        "  plt.show()\n",
        "\n",
        "  ### --- Metrics including accuracy, precision, recall and f-score\n",
        "  print(\"=>> The accuracy of the dataset {} is {}\".format(dataset, accuracy_score(true_labels, pred_labels, normalize=True)))\n",
        "  print(\"=>> The precision, recall and f_score are \", precision_recall_fscore_support(true_labels, pred_labels, average='macro')[:3]) \n"
      ],
      "metadata": {
        "id": "OARW5vFw83RF"
      },
      "execution_count": 70,
      "outputs": []
    },
    {
      "cell_type": "code",
      "source": [
        "\"\"\"\n",
        "Code for adding the cherry-picked data to a separate dictionaty key named 'cherry_dataset'\n",
        "\"\"\"\n",
        "df = pd.read_csv('examples_df_pair_pos.csv')\n",
        "cherry_ids = []\n",
        "for elem in df['pos_pair']:\n",
        "  txt = elem[1:len(elem)-1]\n",
        "  sent = txt.split(',')\n",
        "  sent[0] = sent[0].replace('\\'', '')\n",
        "  cherry_ids.append(sent[0])\n",
        "\n",
        "SNLI['cherry_dataset'] = { pid: SNLI['train'][pid] for pid in cherry_ids}"
      ],
      "metadata": {
        "id": "-9iIbPCTQmF6",
        "colab": {
          "base_uri": "https://localhost:8080/",
          "height": 653
        },
        "outputId": "4364fd12-bec4-4d60-c321-df06149838d8"
      },
      "execution_count": 74,
      "outputs": [
        {
          "output_type": "stream",
          "name": "stdout",
          "text": [
            "In the test dataset there are 63 probelms, \n",
            " from which 0 can be transformed into trees \n",
            " and for 63 we have used the baseline system\n",
            "=>> In the true labels there are =>> Counter({'entailment': 32, 'contradiction': 23, 'neutral': 8})\n",
            "=>> In the predicted labels there are =>> Counter({'entailment': 43, 'neutral': 16, 'contradiction': 4})\n"
          ]
        },
        {
          "output_type": "display_data",
          "data": {
            "text/plain": [
              "<Figure size 432x288 with 2 Axes>"
            ],
            "image/png": "[encoded data removed]"
          },
          "metadata": {
            "needs_background": "light"
          }
        },
        {
          "output_type": "display_data",
          "data": {
            "text/plain": [
              "<Figure size 432x288 with 2 Axes>"
            ],
            "image/png": "[encoded data removed]"
          },
          "metadata": {
            "needs_background": "light"
          }
        },
        {
          "output_type": "stream",
          "name": "stdout",
          "text": [
            "=>> The accuracy of the dataset cherry_dataset is 0.5079365079365079\n",
            "=>> The precision, recall and f_score are  (0.5896317829457365, 0.44338768115942023, 0.404320987654321)\n"
          ]
        }
      ]
    },
    {
      "cell_type": "code",
      "source": [
        "\"\"\"\n",
        "Level is an integer representing the systems level of complexity\n",
        "0 - baseline\n",
        "1 - tree only\n",
        "2 - combination\n",
        "\n",
        "SNLI_dataset_type can be : \n",
        "'test'\n",
        "'sub_train'\n",
        "'cherry_dataset'\n",
        "\"\"\"\n",
        "SNLI_dataset_type = 'test'\n",
        "level = 0\n",
        "\n",
        "system_statistics(SNLI_dataset_type, level)"
      ],
      "metadata": {
        "id": "W3V4m-_aDLKR",
        "colab": {
          "base_uri": "https://localhost:8080/",
          "height": 669
        },
        "outputId": "6c7200d6-b45d-43c1-aae1-8a34e736a96b"
      },
      "execution_count": 71,
      "outputs": [
        {
          "output_type": "stream",
          "name": "stdout",
          "text": [
            "In the test dataset there are 9824 probelms, \n",
            " from which 0 can be transformed into trees \n",
            " and for 9824 we have used the baseline system\n",
            "=>> In the true labels there are =>> Counter({'entailment': 3368, 'contradiction': 3237, 'neutral': 3219})\n",
            "=>> In the predicted labels there are =>> Counter({'entailment': 6369, 'neutral': 2960, 'contradiction': 495})\n"
          ]
        },
        {
          "output_type": "display_data",
          "data": {
            "text/plain": [
              "<Figure size 432x288 with 2 Axes>"
            ],
            "image/png": "[encoded data removed]"
          },
          "metadata": {
            "needs_background": "light"
          }
        },
        {
          "output_type": "display_data",
          "data": {
            "text/plain": [
              "<Figure size 432x288 with 2 Axes>"
            ],
            "image/png": "[encoded data removed]"
          },
          "metadata": {
            "needs_background": "light"
          }
        },
        {
          "output_type": "stream",
          "name": "stdout",
          "text": [
            "=>> The accuracy of the dataset test is 0.40889657980456023\n",
            "=>> The precision, recall and f_score are  (0.5167425668721005, 0.4039272536945348, 0.35945769603639427)\n"
          ]
        }
      ]
    }
  ],
  "metadata": {
    "colab": {
      "collapsed_sections": [
        "5yWFxJA3bVKo",
        "seqJ3fJnbqNr",
        "MmQnNFjZbhZD",
        "SPH3eNQSSN78"
      ],
      "provenance": []
    },
    "kernelspec": {
      "display_name": "Python 3",
      "name": "python3"
    },
    "language_info": {
      "name": "python"
    }
  },
  "nbformat": 4,
  "nbformat_minor": 0
}